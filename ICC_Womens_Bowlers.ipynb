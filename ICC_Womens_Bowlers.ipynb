{
  "nbformat": 4,
  "nbformat_minor": 0,
  "metadata": {
    "colab": {
      "name": "ICC_Womens_Bowlers.ipynb",
      "provenance": [],
      "authorship_tag": "ABX9TyPda7+467RrDpskTwskDfLM",
      "include_colab_link": true
    },
    "kernelspec": {
      "name": "python3",
      "display_name": "Python 3"
    },
    "language_info": {
      "name": "python"
    }
  },
  "cells": [
    {
      "cell_type": "markdown",
      "metadata": {
        "id": "view-in-github",
        "colab_type": "text"
      },
      "source": [
        "<a href=\"https://colab.research.google.com/github/mehul-sonthalia1987/Flip-Robo/blob/Web-Scraping/ICC_Womens_Bowlers.ipynb\" target=\"_parent\"><img src=\"https://colab.research.google.com/assets/colab-badge.svg\" alt=\"Open In Colab\"/></a>"
      ]
    },
    {
      "cell_type": "code",
      "metadata": {
        "colab": {
          "base_uri": "https://localhost:8080/",
          "height": 359
        },
        "id": "5J6Kc9nrnxpe",
        "outputId": "7635e8d0-a087-46da-ed53-ffe83e7e1a77"
      },
      "source": [
        "from bs4 import BeautifulSoup\n",
        "import requests\n",
        "import re\n",
        "url = 'https://www.icc-cricket.com/rankings/womens/player-rankings/odi'\n",
        "response = requests.get(url)\n",
        "soup = BeautifulSoup(response.text, 'lxml')\n",
        "Bowler_Names=[]\n",
        "Bowler_Team=[]\n",
        "Bowler_Rating=[]\n",
        "Bowler = soup.select('div.rankings-block__banner--name')\n",
        "Bowler_Names.append(Bowler[1].text)\n",
        "rest_Bowler=soup.select('td.table-body__cell.name')\n",
        "for i in rest_Bowler[9:18]:\n",
        "  Bowler_Names.append(i.text.replace('\\n', ''))\n",
        "Country=soup.select('div.rankings-block__banner--nationality')\n",
        "temp=[]\n",
        "temp.append(Country[1].text.replace('\\n',''))\n",
        "temp[0]=temp[0].replace(' ','')\n",
        "temp_str=\"\"\n",
        "temp_alphabet=\"\"\n",
        "temp_number=\"\"\n",
        "temp_str=str(temp)\n",
        "temp_str\n",
        "temp_alphabet=temp_str[slice(2,4)]\n",
        "Bowler_Team.append(temp_alphabet)\n",
        "temp_number=temp_str[slice(4,7)]\n",
        "Bowler_Rating.append(temp_number)\n",
        "\n",
        "Rest_Country=soup.select('td.table-body__cell.nationality-logo')\n",
        "for i in Rest_Country[9:18]:\n",
        "  Bowler_Team.append(i.text.replace('\\n', ''))\n",
        "\n",
        "Rest_Rating=soup.select('td.table-body__cell.u-text-right.rating')\n",
        "for i in Rest_Rating[9:18]:\n",
        "  Bowler_Rating.append(i.text.replace('\\n', ''))\n",
        "Bowler_Rating\n",
        "\n",
        "import pandas as pd\n",
        "ICC_Womens_Bowler = pd.DataFrame({})\n",
        "ICC_Womens_Bowler['Player']=Bowler_Names\n",
        "ICC_Womens_Bowler['Team']=Bowler_Team\n",
        "ICC_Womens_Bowler['Rating']=Bowler_Rating\n",
        "ICC_Womens_Bowler"
      ],
      "execution_count": 1,
      "outputs": [
        {
          "output_type": "execute_result",
          "data": {
            "text/html": [
              "<div>\n",
              "<style scoped>\n",
              "    .dataframe tbody tr th:only-of-type {\n",
              "        vertical-align: middle;\n",
              "    }\n",
              "\n",
              "    .dataframe tbody tr th {\n",
              "        vertical-align: top;\n",
              "    }\n",
              "\n",
              "    .dataframe thead th {\n",
              "        text-align: right;\n",
              "    }\n",
              "</style>\n",
              "<table border=\"1\" class=\"dataframe\">\n",
              "  <thead>\n",
              "    <tr style=\"text-align: right;\">\n",
              "      <th></th>\n",
              "      <th>Player</th>\n",
              "      <th>Team</th>\n",
              "      <th>Rating</th>\n",
              "    </tr>\n",
              "  </thead>\n",
              "  <tbody>\n",
              "    <tr>\n",
              "      <th>0</th>\n",
              "      <td>Jess Jonassen</td>\n",
              "      <td>AU</td>\n",
              "      <td>S80</td>\n",
              "    </tr>\n",
              "    <tr>\n",
              "      <th>1</th>\n",
              "      <td>Megan Schutt</td>\n",
              "      <td>AUS</td>\n",
              "      <td>762</td>\n",
              "    </tr>\n",
              "    <tr>\n",
              "      <th>2</th>\n",
              "      <td>Marizanne Kapp</td>\n",
              "      <td>SA</td>\n",
              "      <td>747</td>\n",
              "    </tr>\n",
              "    <tr>\n",
              "      <th>3</th>\n",
              "      <td>Shabnim Ismail</td>\n",
              "      <td>SA</td>\n",
              "      <td>717</td>\n",
              "    </tr>\n",
              "    <tr>\n",
              "      <th>4</th>\n",
              "      <td>Jhulan Goswami</td>\n",
              "      <td>IND</td>\n",
              "      <td>681</td>\n",
              "    </tr>\n",
              "    <tr>\n",
              "      <th>5</th>\n",
              "      <td>Katherine Brunt</td>\n",
              "      <td>ENG</td>\n",
              "      <td>655</td>\n",
              "    </tr>\n",
              "    <tr>\n",
              "      <th>6</th>\n",
              "      <td>Poonam Yadav</td>\n",
              "      <td>IND</td>\n",
              "      <td>641</td>\n",
              "    </tr>\n",
              "    <tr>\n",
              "      <th>7</th>\n",
              "      <td>Ayabonga Khaka</td>\n",
              "      <td>SA</td>\n",
              "      <td>638</td>\n",
              "    </tr>\n",
              "    <tr>\n",
              "      <th>8</th>\n",
              "      <td>Ellyse Perry</td>\n",
              "      <td>AUS</td>\n",
              "      <td>616</td>\n",
              "    </tr>\n",
              "    <tr>\n",
              "      <th>9</th>\n",
              "      <td>Shikha Pandey</td>\n",
              "      <td>IND</td>\n",
              "      <td>610</td>\n",
              "    </tr>\n",
              "  </tbody>\n",
              "</table>\n",
              "</div>"
            ],
            "text/plain": [
              "            Player Team Rating\n",
              "0    Jess Jonassen   AU    S80\n",
              "1     Megan Schutt  AUS    762\n",
              "2   Marizanne Kapp   SA    747\n",
              "3   Shabnim Ismail   SA    717\n",
              "4   Jhulan Goswami  IND    681\n",
              "5  Katherine Brunt  ENG    655\n",
              "6     Poonam Yadav  IND    641\n",
              "7   Ayabonga Khaka   SA    638\n",
              "8     Ellyse Perry  AUS    616\n",
              "9    Shikha Pandey  IND    610"
            ]
          },
          "metadata": {
            "tags": []
          },
          "execution_count": 1
        }
      ]
    },
    {
      "cell_type": "code",
      "metadata": {
        "id": "LoKdfSDRnz9-"
      },
      "source": [
        ""
      ],
      "execution_count": null,
      "outputs": []
    }
  ]
}