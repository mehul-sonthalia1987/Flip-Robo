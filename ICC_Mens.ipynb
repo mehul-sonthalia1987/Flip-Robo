{
  "nbformat": 4,
  "nbformat_minor": 0,
  "metadata": {
    "colab": {
      "name": "ICC_Mens.ipynb",
      "provenance": [],
      "authorship_tag": "ABX9TyPqhmF8RDj1rNP8FfkG8kJI",
      "include_colab_link": true
    },
    "kernelspec": {
      "name": "python3",
      "display_name": "Python 3"
    },
    "language_info": {
      "name": "python"
    }
  },
  "cells": [
    {
      "cell_type": "markdown",
      "metadata": {
        "id": "view-in-github",
        "colab_type": "text"
      },
      "source": [
        "<a href=\"https://colab.research.google.com/github/mehul-sonthalia1987/Flip-Robo/blob/Web-Scraping/ICC_Mens.ipynb\" target=\"_parent\"><img src=\"https://colab.research.google.com/assets/colab-badge.svg\" alt=\"Open In Colab\"/></a>"
      ]
    },
    {
      "cell_type": "code",
      "metadata": {
        "id": "tV3x3i2gtI38",
        "colab": {
          "base_uri": "https://localhost:8080/",
          "height": 359
        },
        "outputId": "d01b79c0-a0ed-482f-a61c-d8f4766de029"
      },
      "source": [
        "from bs4 import BeautifulSoup\n",
        "import requests\n",
        "import re\n",
        "url = 'https://www.icc-cricket.com/rankings/mens/team-rankings/odi'\n",
        "response = requests.get(url)\n",
        "soup = BeautifulSoup(response.text, 'lxml')\n",
        "Team_Names=[]\n",
        "Team_Matches=[]\n",
        "Team_Points=[]\n",
        "Team_Rating=[]\n",
        "\n",
        "Teams = soup.select('span.u-hide-phablet')\n",
        "for i in Teams[:10]:\n",
        "  Team_Names.append(i.text.replace('\\n', ''))\n",
        "\n",
        "Nz_Matches=soup.select('td.rankings-block__banner--matches')\n",
        "Team_Matches.append(Nz_Matches[0].text.replace('\\n',''))\n",
        "Rest_Matches=soup.select('td.table-body__cell.u-center-text')\n",
        "for i in Rest_Matches[0:17:2]:\n",
        "  Team_Matches.append(i.text.replace('\\n', ''))\n",
        "Team_Matches\n",
        "\n",
        "Nz_Points=soup.select('td.rankings-block__banner--points')\n",
        "Team_Points.append(Nz_Points[0].text.replace('\\n',''))\n",
        "for i in Rest_Matches[1:18:2]:\n",
        "  Team_Points.append(i.text.replace('\\n', ''))\n",
        "Team_Points\n",
        "\n",
        "Nz_Rating=soup.select('td.rankings-block__banner--rating.u-text-right')\n",
        "Team_Rating.append(Nz_Rating[0].text.replace('\\n',''))\n",
        "Team_Rating[0]=Team_Rating[0].replace(' ','')\n",
        "Rating=soup.select('td.table-body__cell.u-text-right.rating')\n",
        "for i in Rating[:9]:\n",
        "  Team_Rating.append(i.text.replace('\\n', ''))\n",
        "Team_Rating\n",
        "\n",
        "import pandas as pd\n",
        "ICC_Mens = pd.DataFrame({})\n",
        "ICC_Mens['Team']=Team_Names\n",
        "ICC_Mens['Matches']=Team_Matches\n",
        "ICC_Mens['Points']=Team_Points\n",
        "ICC_Mens['Rating']=Team_Rating\n",
        "ICC_Mens"
      ],
      "execution_count": 129,
      "outputs": [
        {
          "output_type": "execute_result",
          "data": {
            "text/html": [
              "<div>\n",
              "<style scoped>\n",
              "    .dataframe tbody tr th:only-of-type {\n",
              "        vertical-align: middle;\n",
              "    }\n",
              "\n",
              "    .dataframe tbody tr th {\n",
              "        vertical-align: top;\n",
              "    }\n",
              "\n",
              "    .dataframe thead th {\n",
              "        text-align: right;\n",
              "    }\n",
              "</style>\n",
              "<table border=\"1\" class=\"dataframe\">\n",
              "  <thead>\n",
              "    <tr style=\"text-align: right;\">\n",
              "      <th></th>\n",
              "      <th>Team</th>\n",
              "      <th>Matches</th>\n",
              "      <th>Points</th>\n",
              "      <th>Rating</th>\n",
              "    </tr>\n",
              "  </thead>\n",
              "  <tbody>\n",
              "    <tr>\n",
              "      <th>0</th>\n",
              "      <td>New Zealand</td>\n",
              "      <td>17</td>\n",
              "      <td>2,054</td>\n",
              "      <td>121</td>\n",
              "    </tr>\n",
              "    <tr>\n",
              "      <th>1</th>\n",
              "      <td>Australia</td>\n",
              "      <td>25</td>\n",
              "      <td>2,945</td>\n",
              "      <td>118</td>\n",
              "    </tr>\n",
              "    <tr>\n",
              "      <th>2</th>\n",
              "      <td>India</td>\n",
              "      <td>29</td>\n",
              "      <td>3,344</td>\n",
              "      <td>115</td>\n",
              "    </tr>\n",
              "    <tr>\n",
              "      <th>3</th>\n",
              "      <td>England</td>\n",
              "      <td>27</td>\n",
              "      <td>3,100</td>\n",
              "      <td>115</td>\n",
              "    </tr>\n",
              "    <tr>\n",
              "      <th>4</th>\n",
              "      <td>South Africa</td>\n",
              "      <td>20</td>\n",
              "      <td>2,137</td>\n",
              "      <td>107</td>\n",
              "    </tr>\n",
              "    <tr>\n",
              "      <th>5</th>\n",
              "      <td>Pakistan</td>\n",
              "      <td>24</td>\n",
              "      <td>2,323</td>\n",
              "      <td>97</td>\n",
              "    </tr>\n",
              "    <tr>\n",
              "      <th>6</th>\n",
              "      <td>Bangladesh</td>\n",
              "      <td>27</td>\n",
              "      <td>2,438</td>\n",
              "      <td>90</td>\n",
              "    </tr>\n",
              "    <tr>\n",
              "      <th>7</th>\n",
              "      <td>West Indies</td>\n",
              "      <td>27</td>\n",
              "      <td>2,222</td>\n",
              "      <td>82</td>\n",
              "    </tr>\n",
              "    <tr>\n",
              "      <th>8</th>\n",
              "      <td>Sri Lanka</td>\n",
              "      <td>24</td>\n",
              "      <td>1,876</td>\n",
              "      <td>78</td>\n",
              "    </tr>\n",
              "    <tr>\n",
              "      <th>9</th>\n",
              "      <td>Afghanistan</td>\n",
              "      <td>17</td>\n",
              "      <td>1,054</td>\n",
              "      <td>62</td>\n",
              "    </tr>\n",
              "  </tbody>\n",
              "</table>\n",
              "</div>"
            ],
            "text/plain": [
              "           Team Matches Points Rating\n",
              "0   New Zealand      17  2,054    121\n",
              "1     Australia      25  2,945    118\n",
              "2         India      29  3,344    115\n",
              "3       England      27  3,100    115\n",
              "4  South Africa      20  2,137    107\n",
              "5      Pakistan      24  2,323     97\n",
              "6    Bangladesh      27  2,438     90\n",
              "7   West Indies      27  2,222     82\n",
              "8     Sri Lanka      24  1,876     78\n",
              "9   Afghanistan      17  1,054     62"
            ]
          },
          "metadata": {
            "tags": []
          },
          "execution_count": 129
        }
      ]
    },
    {
      "cell_type": "code",
      "metadata": {
        "id": "skg4utFozHuf"
      },
      "source": [
        ""
      ],
      "execution_count": null,
      "outputs": []
    }
  ]
}