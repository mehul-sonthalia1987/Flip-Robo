{
  "nbformat": 4,
  "nbformat_minor": 0,
  "metadata": {
    "colab": {
      "name": "Untitled5.ipynb",
      "provenance": [],
      "authorship_tag": "ABX9TyMoKedf0ds5LQmbDkbaki9b",
      "include_colab_link": true
    },
    "kernelspec": {
      "name": "python3",
      "display_name": "Python 3"
    },
    "language_info": {
      "name": "python"
    }
  },
  "cells": [
    {
      "cell_type": "markdown",
      "metadata": {
        "id": "view-in-github",
        "colab_type": "text"
      },
      "source": [
        "<a href=\"https://colab.research.google.com/github/mehul-sonthalia1987/Flip-Robo/blob/Web-Scraping/Weather%20Forecast.ipynb\" target=\"_parent\"><img src=\"https://colab.research.google.com/assets/colab-badge.svg\" alt=\"Open In Colab\"/></a>"
      ]
    },
    {
      "cell_type": "code",
      "metadata": {
        "colab": {
          "base_uri": "https://localhost:8080/",
          "height": 328
        },
        "id": "I9tO8MqjaZLt",
        "outputId": "06b873af-6faa-4f57-8808-f56f388bd6e3"
      },
      "source": [
        "from bs4 import BeautifulSoup\n",
        "import requests\n",
        "import re\n",
        "url = 'https://forecast.weather.gov/MapClick.php?lat=37.777120000000025&lon=-122.41963999999996#.YMeGA9UzbIU'\n",
        "response = requests.get(url)\n",
        "soup = BeautifulSoup(response.text, 'lxml')\n",
        "SF_Day=[]\n",
        "SF_Day_Desc=[]\n",
        "SF_Temp=[]\n",
        "SF_Temp_Desc=[]\n",
        "\n",
        "Day = soup.select('p.period-name')\n",
        "for i in Day:\n",
        "  SF_Day.append(i.text.replace('\\n', ''))\n",
        "\n",
        "Day_Desc= soup.select('p.short-desc')\n",
        "for i in Day:\n",
        "  SF_Day_Desc.append(i.text.replace('\\n', ''))\n",
        "\n",
        "Temp= soup.select('p.temp')\n",
        "for i in Temp:\n",
        "  SF_Temp.append(i.text.replace('\\n', ''))\n",
        "\n",
        "Temp_Desc= soup.select('div.col-sm-10.forecast-text')\n",
        "for i in Temp_Desc[:9]:\n",
        "  SF_Temp_Desc.append(i.text.replace('\\n', ''))\n",
        "SF_Temp_Desc\n",
        "\n",
        "import pandas as pd\n",
        "SanFrancisco = pd.DataFrame({})\n",
        "SanFrancisco['Day']=SF_Day\n",
        "SanFrancisco['Short Description']=SF_Day_Desc\n",
        "SanFrancisco['Temperature']=SF_Temp\n",
        "SanFrancisco['Description']=SF_Temp_Desc\n",
        "SanFrancisco\n"
      ],
      "execution_count": 12,
      "outputs": [
        {
          "output_type": "execute_result",
          "data": {
            "text/html": [
              "<div>\n",
              "<style scoped>\n",
              "    .dataframe tbody tr th:only-of-type {\n",
              "        vertical-align: middle;\n",
              "    }\n",
              "\n",
              "    .dataframe tbody tr th {\n",
              "        vertical-align: top;\n",
              "    }\n",
              "\n",
              "    .dataframe thead th {\n",
              "        text-align: right;\n",
              "    }\n",
              "</style>\n",
              "<table border=\"1\" class=\"dataframe\">\n",
              "  <thead>\n",
              "    <tr style=\"text-align: right;\">\n",
              "      <th></th>\n",
              "      <th>Day</th>\n",
              "      <th>Short Description</th>\n",
              "      <th>Temperature</th>\n",
              "      <th>Description</th>\n",
              "    </tr>\n",
              "  </thead>\n",
              "  <tbody>\n",
              "    <tr>\n",
              "      <th>0</th>\n",
              "      <td>Today</td>\n",
              "      <td>Today</td>\n",
              "      <td>High: 68 °F</td>\n",
              "      <td>Partly sunny, then gradually becoming sunny, w...</td>\n",
              "    </tr>\n",
              "    <tr>\n",
              "      <th>1</th>\n",
              "      <td>Tonight</td>\n",
              "      <td>Tonight</td>\n",
              "      <td>Low: 54 °F</td>\n",
              "      <td>Mostly clear, with a low around 54. Breezy, wi...</td>\n",
              "    </tr>\n",
              "    <tr>\n",
              "      <th>2</th>\n",
              "      <td>Tuesday</td>\n",
              "      <td>Tuesday</td>\n",
              "      <td>High: 72 °F</td>\n",
              "      <td>Sunny, with a high near 72. West wind 14 to 21...</td>\n",
              "    </tr>\n",
              "    <tr>\n",
              "      <th>3</th>\n",
              "      <td>TuesdayNight</td>\n",
              "      <td>TuesdayNight</td>\n",
              "      <td>Low: 56 °F</td>\n",
              "      <td>Mostly clear, with a low around 56. West wind ...</td>\n",
              "    </tr>\n",
              "    <tr>\n",
              "      <th>4</th>\n",
              "      <td>Wednesday</td>\n",
              "      <td>Wednesday</td>\n",
              "      <td>High: 75 °F</td>\n",
              "      <td>Sunny, with a high near 75. West wind 5 to 10 ...</td>\n",
              "    </tr>\n",
              "    <tr>\n",
              "      <th>5</th>\n",
              "      <td>WednesdayNight</td>\n",
              "      <td>WednesdayNight</td>\n",
              "      <td>Low: 56 °F</td>\n",
              "      <td>Partly cloudy, with a low around 56.</td>\n",
              "    </tr>\n",
              "    <tr>\n",
              "      <th>6</th>\n",
              "      <td>Thursday</td>\n",
              "      <td>Thursday</td>\n",
              "      <td>High: 79 °F</td>\n",
              "      <td>Mostly sunny, with a high near 79.</td>\n",
              "    </tr>\n",
              "    <tr>\n",
              "      <th>7</th>\n",
              "      <td>ThursdayNight</td>\n",
              "      <td>ThursdayNight</td>\n",
              "      <td>Low: 56 °F</td>\n",
              "      <td>Mostly clear, with a low around 56.</td>\n",
              "    </tr>\n",
              "    <tr>\n",
              "      <th>8</th>\n",
              "      <td>Friday</td>\n",
              "      <td>Friday</td>\n",
              "      <td>High: 74 °F</td>\n",
              "      <td>Sunny, with a high near 74.</td>\n",
              "    </tr>\n",
              "  </tbody>\n",
              "</table>\n",
              "</div>"
            ],
            "text/plain": [
              "              Day  ...                                        Description\n",
              "0           Today  ...  Partly sunny, then gradually becoming sunny, w...\n",
              "1         Tonight  ...  Mostly clear, with a low around 54. Breezy, wi...\n",
              "2         Tuesday  ...  Sunny, with a high near 72. West wind 14 to 21...\n",
              "3    TuesdayNight  ...  Mostly clear, with a low around 56. West wind ...\n",
              "4       Wednesday  ...  Sunny, with a high near 75. West wind 5 to 10 ...\n",
              "5  WednesdayNight  ...               Partly cloudy, with a low around 56.\n",
              "6        Thursday  ...                 Mostly sunny, with a high near 79.\n",
              "7   ThursdayNight  ...                Mostly clear, with a low around 56.\n",
              "8          Friday  ...                        Sunny, with a high near 74.\n",
              "\n",
              "[9 rows x 4 columns]"
            ]
          },
          "metadata": {
            "tags": []
          },
          "execution_count": 12
        }
      ]
    },
    {
      "cell_type": "code",
      "metadata": {
        "id": "3B-1W-O3bEHf"
      },
      "source": [
        ""
      ],
      "execution_count": null,
      "outputs": []
    }
  ]
}