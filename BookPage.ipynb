{
  "nbformat": 4,
  "nbformat_minor": 0,
  "metadata": {
    "colab": {
      "name": "BookPage.ipynb",
      "provenance": [],
      "authorship_tag": "ABX9TyPKmoNhekIJuQpEMARB/H1i",
      "include_colab_link": true
    },
    "kernelspec": {
      "name": "python3",
      "display_name": "Python 3"
    },
    "language_info": {
      "name": "python"
    }
  },
  "cells": [
    {
      "cell_type": "markdown",
      "metadata": {
        "id": "view-in-github",
        "colab_type": "text"
      },
      "source": [
        "<a href=\"https://colab.research.google.com/github/mehul-sonthalia1987/Flip-Robo/blob/Web-Scraping/BookPage.ipynb\" target=\"_parent\"><img src=\"https://colab.research.google.com/assets/colab-badge.svg\" alt=\"Open In Colab\"/></a>"
      ]
    },
    {
      "cell_type": "code",
      "metadata": {
        "colab": {
          "base_uri": "https://localhost:8080/",
          "height": 359
        },
        "id": "yGNuI_nX_zGK",
        "outputId": "487ea8b9-848b-4553-e814-bf0e5dbe938e"
      },
      "source": [
        "from bs4 import BeautifulSoup\n",
        "import requests\n",
        "import re\n",
        "url = 'https://bookpage.com/reviews'\n",
        "response = requests.get(url)\n",
        "soup = BeautifulSoup(response.text, 'lxml')\n",
        "books = soup.select('h4.italic'), soup.select('p.sans'), soup.select('p.excerpt'), soup.select('p.genre-links')\n",
        "books_titles=[]\n",
        "books_author=[]\n",
        "books_review=[]\n",
        "books_genre=[]\n",
        "for i in books[0]:\n",
        "  books_titles.append(i.text.replace('\\n', ''))\n",
        "for i in books[1]:\n",
        "  books_author.append(i.text.replace('\\n', ''))\n",
        "for i in books[2]:\n",
        "  books_review.append(i.text.replace('\\n', ''))\n",
        "for i in books[3]:\n",
        "  books_genre.append(i.text.replace('\\n', ''))\n",
        "import pandas as pd\n",
        "bookpage = pd.DataFrame({})\n",
        "bookpage['title']=books_titles\n",
        "bookpage['author']=books_author\n",
        "bookpage['genre']=books_genre\n",
        "bookpage['review']=books_review\n",
        "bookpage\n",
        "\n"
      ],
      "execution_count": 51,
      "outputs": [
        {
          "output_type": "execute_result",
          "data": {
            "text/html": [
              "<div>\n",
              "<style scoped>\n",
              "    .dataframe tbody tr th:only-of-type {\n",
              "        vertical-align: middle;\n",
              "    }\n",
              "\n",
              "    .dataframe tbody tr th {\n",
              "        vertical-align: top;\n",
              "    }\n",
              "\n",
              "    .dataframe thead th {\n",
              "        text-align: right;\n",
              "    }\n",
              "</style>\n",
              "<table border=\"1\" class=\"dataframe\">\n",
              "  <thead>\n",
              "    <tr style=\"text-align: right;\">\n",
              "      <th></th>\n",
              "      <th>title</th>\n",
              "      <th>author</th>\n",
              "      <th>genre</th>\n",
              "      <th>review</th>\n",
              "    </tr>\n",
              "  </thead>\n",
              "  <tbody>\n",
              "    <tr>\n",
              "      <th>0</th>\n",
              "      <td>Act Your Age, Eve Brown</td>\n",
              "      <td>Talia Hibbert, Ione Butler</td>\n",
              "      <td>Audio / Romance / Contemporary Romance</td>\n",
              "      <td>Narrator Ione Butler goes straight for the hea...</td>\n",
              "    </tr>\n",
              "    <tr>\n",
              "      <th>1</th>\n",
              "      <td>Dusk, Night, Dawn</td>\n",
              "      <td>Anne Lamott</td>\n",
              "      <td>Audio / Nonfiction / Spirituality</td>\n",
              "      <td>Anne Lamott’s narration of Dusk, Night, Dawn i...</td>\n",
              "    </tr>\n",
              "    <tr>\n",
              "      <th>2</th>\n",
              "      <td>★ The Natural Mother of the Child</td>\n",
              "      <td>Krys Malcom Belc</td>\n",
              "      <td>Nonfiction / Memoir / LGBTQ</td>\n",
              "      <td>Krys Malcolm Belc’s growing realization that h...</td>\n",
              "    </tr>\n",
              "    <tr>\n",
              "      <th>3</th>\n",
              "      <td>Professional Troublemaker</td>\n",
              "      <td>Luvvie Ajayi Jones</td>\n",
              "      <td>Audio / Nonfiction / Self-Help</td>\n",
              "      <td>Luvvie Ajayi Jones’ commanding, cheerful voice...</td>\n",
              "    </tr>\n",
              "    <tr>\n",
              "      <th>4</th>\n",
              "      <td>The Missing Treasures of Amy Ashton</td>\n",
              "      <td>Eleanor Ray</td>\n",
              "      <td>Fiction / Popular Fiction</td>\n",
              "      <td>Eleanor Ray’s debut novel about a hoarder poke...</td>\n",
              "    </tr>\n",
              "    <tr>\n",
              "      <th>5</th>\n",
              "      <td>Everyone Knows Your Mother Is a Witch</td>\n",
              "      <td>Rivka Galchen</td>\n",
              "      <td>Fiction / Historical Fiction</td>\n",
              "      <td>Rivka Galchen brings a surprising sense of hum...</td>\n",
              "    </tr>\n",
              "    <tr>\n",
              "      <th>6</th>\n",
              "      <td>The Blue Wonder</td>\n",
              "      <td>Frauke Bagusche, Jamie McIntosh</td>\n",
              "      <td>Nonfiction / Nature / Animals</td>\n",
              "      <td>With a passionate love for the ocean, Frauke B...</td>\n",
              "    </tr>\n",
              "    <tr>\n",
              "      <th>7</th>\n",
              "      <td>★ In</td>\n",
              "      <td>Will McPhail</td>\n",
              "      <td>Graphic Novels &amp; Comics / Graphic Novels</td>\n",
              "      <td>Small talk becomes real talk in Will McPhail's...</td>\n",
              "    </tr>\n",
              "    <tr>\n",
              "      <th>8</th>\n",
              "      <td>★ The Hidden Palace</td>\n",
              "      <td>Helene Wecker</td>\n",
              "      <td>Fiction / Literary Fiction</td>\n",
              "      <td>Fans have waited eight years for this sequel, ...</td>\n",
              "    </tr>\n",
              "    <tr>\n",
              "      <th>9</th>\n",
              "      <td>★ Dear Senthuran</td>\n",
              "      <td>Akwaeke Emezi</td>\n",
              "      <td>Nonfiction / Memoir</td>\n",
              "      <td>In Dear Senthuran, Akwaeke Emezi explodes huma...</td>\n",
              "    </tr>\n",
              "  </tbody>\n",
              "</table>\n",
              "</div>"
            ],
            "text/plain": [
              "                                   title  ...                                             review\n",
              "0                Act Your Age, Eve Brown  ...  Narrator Ione Butler goes straight for the hea...\n",
              "1                      Dusk, Night, Dawn  ...  Anne Lamott’s narration of Dusk, Night, Dawn i...\n",
              "2      ★ The Natural Mother of the Child  ...  Krys Malcolm Belc’s growing realization that h...\n",
              "3              Professional Troublemaker  ...  Luvvie Ajayi Jones’ commanding, cheerful voice...\n",
              "4    The Missing Treasures of Amy Ashton  ...  Eleanor Ray’s debut novel about a hoarder poke...\n",
              "5  Everyone Knows Your Mother Is a Witch  ...  Rivka Galchen brings a surprising sense of hum...\n",
              "6                        The Blue Wonder  ...  With a passionate love for the ocean, Frauke B...\n",
              "7                                   ★ In  ...  Small talk becomes real talk in Will McPhail's...\n",
              "8                    ★ The Hidden Palace  ...  Fans have waited eight years for this sequel, ...\n",
              "9                       ★ Dear Senthuran  ...  In Dear Senthuran, Akwaeke Emezi explodes huma...\n",
              "\n",
              "[10 rows x 4 columns]"
            ]
          },
          "metadata": {
            "tags": []
          },
          "execution_count": 51
        }
      ]
    }
  ]
}