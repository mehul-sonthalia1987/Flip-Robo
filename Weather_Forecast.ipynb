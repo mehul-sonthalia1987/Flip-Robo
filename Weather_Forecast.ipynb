{
  "nbformat": 4,
  "nbformat_minor": 0,
  "metadata": {
    "colab": {
      "name": "Weather Forecast.ipynb",
      "provenance": [],
      "authorship_tag": "ABX9TyNbOZVOS4F+vhFpY9OfkbHt",
      "include_colab_link": true
    },
    "kernelspec": {
      "name": "python3",
      "display_name": "Python 3"
    },
    "language_info": {
      "name": "python"
    }
  },
  "cells": [
    {
      "cell_type": "markdown",
      "metadata": {
        "id": "view-in-github",
        "colab_type": "text"
      },
      "source": [
        "<a href=\"https://colab.research.google.com/github/mehul-sonthalia1987/Flip-Robo/blob/Web-Scraping/Weather_Forecast.ipynb\" target=\"_parent\"><img src=\"https://colab.research.google.com/assets/colab-badge.svg\" alt=\"Open In Colab\"/></a>"
      ]
    },
    {
      "cell_type": "code",
      "metadata": {
        "colab": {
          "base_uri": "https://localhost:8080/"
        },
        "id": "I9tO8MqjaZLt",
        "outputId": "e13ef49e-ca83-420c-fbe1-88eff1b95f82"
      },
      "source": [
        "from bs4 import BeautifulSoup\n",
        "import requests\n",
        "import re\n",
        "url = 'https://forecast.weather.gov/MapClick.php?lat=37.777120000000025&lon=-122.41963999999996#.YMeGA9UzbIU'\n",
        "response = requests.get(url)\n",
        "soup = BeautifulSoup(response.text, 'lxml')\n",
        "SF_Day=[]\n",
        "SF_Day_Desc=[]\n",
        "SF_Temp=[]\n",
        "SF_Temp_Desc=[]\n",
        "\n",
        "Day = soup.select('p.period-name')\n",
        "for i in Day:\n",
        "  SF_Day.append(i.text.replace('\\n', ''))\n",
        "\n",
        "Day_Desc= soup.select('p.short-desc')\n",
        "for i in Day_Desc:\n",
        "  SF_Day_Desc.append(i.text.replace('\\n', ''))\n",
        "\n",
        "Temp= soup.select('p.temp')\n",
        "for i in Temp:\n",
        "  SF_Temp.append(i.text.replace('\\n', ''))\n",
        "\n",
        "Temp_Desc= soup.select('div.col-sm-10.forecast-text')\n",
        "for i in Temp_Desc[:9]:\n",
        "  SF_Temp_Desc.append(i.text.replace('\\n', ''))\n",
        "\n",
        "\n",
        "import pandas as pd\n",
        "SanFrancisco = pd.DataFrame({})\n",
        "SanFrancisco['Day']=SF_Day\n",
        "SanFrancisco['Short Description']=SF_Day_Desc\n",
        "SanFrancisco['Temperature']=SF_Temp\n",
        "SanFrancisco['Description']=SF_Temp_Desc\n",
        "SanFrancisco\n"
      ],
      "execution_count": 14,
      "outputs": [
        {
          "output_type": "execute_result",
          "data": {
            "text/plain": [
              "['Mostly Sunnythen Sunnyand Breezy',\n",
              " 'Mostly Clearand Breezythen MostlyClear',\n",
              " 'Sunny',\n",
              " 'Mostly Clear',\n",
              " 'Sunny',\n",
              " 'Partly Cloudy',\n",
              " 'Mostly Sunny',\n",
              " 'Mostly Clear',\n",
              " 'Sunny']"
            ]
          },
          "metadata": {
            "tags": []
          },
          "execution_count": 14
        }
      ]
    },
    {
      "cell_type": "code",
      "metadata": {
        "id": "3B-1W-O3bEHf"
      },
      "source": [
        ""
      ],
      "execution_count": null,
      "outputs": []
    }
  ]
}