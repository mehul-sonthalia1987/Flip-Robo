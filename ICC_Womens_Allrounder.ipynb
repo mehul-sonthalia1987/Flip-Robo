{
  "nbformat": 4,
  "nbformat_minor": 0,
  "metadata": {
    "colab": {
      "name": "ICC_Womens_Allrounder.ipynb",
      "provenance": [],
      "authorship_tag": "ABX9TyOuHzHCtrO2EFe75Eq4wCgD",
      "include_colab_link": true
    },
    "kernelspec": {
      "name": "python3",
      "display_name": "Python 3"
    },
    "language_info": {
      "name": "python"
    }
  },
  "cells": [
    {
      "cell_type": "markdown",
      "metadata": {
        "id": "view-in-github",
        "colab_type": "text"
      },
      "source": [
        "<a href=\"https://colab.research.google.com/github/mehul-sonthalia1987/Flip-Robo/blob/Web-Scraping/ICC_Womens_Allrounder.ipynb\" target=\"_parent\"><img src=\"https://colab.research.google.com/assets/colab-badge.svg\" alt=\"Open In Colab\"/></a>"
      ]
    },
    {
      "cell_type": "code",
      "metadata": {
        "colab": {
          "base_uri": "https://localhost:8080/",
          "height": 359
        },
        "id": "j-MOcGRPoII9",
        "outputId": "f86b0719-be44-43e8-c068-018ac5f9c082"
      },
      "source": [
        "from bs4 import BeautifulSoup\n",
        "import requests\n",
        "import re\n",
        "url = 'https://www.icc-cricket.com/rankings/womens/player-rankings/odi'\n",
        "response = requests.get(url)\n",
        "soup = BeautifulSoup(response.text, 'lxml')\n",
        "Player_Names=[]\n",
        "Player_Team=[]\n",
        "Player_Rating=[]\n",
        "Player = soup.select('div.rankings-block__banner--name')\n",
        "Player_Names.append(Player[2].text)\n",
        "rest_Player=soup.select('td.table-body__cell.name')\n",
        "for i in rest_Player[18:27]:\n",
        "  Player_Names.append(i.text.replace('\\n', ''))\n",
        "\n",
        "Country=soup.select('div.rankings-block__banner--nationality')\n",
        "temp=[]\n",
        "temp.append(Country[2].text.replace('\\n',''))\n",
        "temp[0]=temp[0].replace(' ','')\n",
        "temp_str=\"\"\n",
        "temp_alphabet=\"\"\n",
        "temp_number=\"\"\n",
        "temp_str=str(temp)\n",
        "\n",
        "temp_alphabet=temp_str[slice(2,4)]\n",
        "Player_Team.append(temp_alphabet)\n",
        "temp_number=temp_str[slice(4,7)]\n",
        "Player_Rating.append(temp_number)\n",
        "\n",
        "Rest_Country=soup.select('td.table-body__cell.nationality-logo')\n",
        "for i in Rest_Country[18:27]:\n",
        "  Player_Team.append(i.text.replace('\\n', ''))\n",
        "\n",
        "Rest_Rating=soup.select('td.table-body__cell.u-text-right.rating')\n",
        "for i in Rest_Rating[18:27]:\n",
        "  Player_Rating.append(i.text.replace('\\n', ''))\n",
        "\n",
        "import pandas as pd\n",
        "ICC_Womens_AllRounder = pd.DataFrame({})\n",
        "ICC_Womens_AllRounder['Player']=Player_Names\n",
        "ICC_Womens_AllRounder['Team']=Player_Team\n",
        "ICC_Womens_AllRounder['Rating']=Player_Rating\n",
        "ICC_Womens_AllRounder"
      ],
      "execution_count": 16,
      "outputs": [
        {
          "output_type": "execute_result",
          "data": {
            "text/html": [
              "<div>\n",
              "<style scoped>\n",
              "    .dataframe tbody tr th:only-of-type {\n",
              "        vertical-align: middle;\n",
              "    }\n",
              "\n",
              "    .dataframe tbody tr th {\n",
              "        vertical-align: top;\n",
              "    }\n",
              "\n",
              "    .dataframe thead th {\n",
              "        text-align: right;\n",
              "    }\n",
              "</style>\n",
              "<table border=\"1\" class=\"dataframe\">\n",
              "  <thead>\n",
              "    <tr style=\"text-align: right;\">\n",
              "      <th></th>\n",
              "      <th>Player</th>\n",
              "      <th>Team</th>\n",
              "      <th>Rating</th>\n",
              "    </tr>\n",
              "  </thead>\n",
              "  <tbody>\n",
              "    <tr>\n",
              "      <th>0</th>\n",
              "      <td>Marizanne Kapp</td>\n",
              "      <td>SA</td>\n",
              "      <td>418</td>\n",
              "    </tr>\n",
              "    <tr>\n",
              "      <th>1</th>\n",
              "      <td>Ellyse Perry</td>\n",
              "      <td>AUS</td>\n",
              "      <td>418</td>\n",
              "    </tr>\n",
              "    <tr>\n",
              "      <th>2</th>\n",
              "      <td>Stafanie Taylor</td>\n",
              "      <td>WI</td>\n",
              "      <td>410</td>\n",
              "    </tr>\n",
              "    <tr>\n",
              "      <th>3</th>\n",
              "      <td>Natalie Sciver</td>\n",
              "      <td>ENG</td>\n",
              "      <td>349</td>\n",
              "    </tr>\n",
              "    <tr>\n",
              "      <th>4</th>\n",
              "      <td>Deepti Sharma</td>\n",
              "      <td>IND</td>\n",
              "      <td>343</td>\n",
              "    </tr>\n",
              "    <tr>\n",
              "      <th>5</th>\n",
              "      <td>Jess Jonassen</td>\n",
              "      <td>AUS</td>\n",
              "      <td>307</td>\n",
              "    </tr>\n",
              "    <tr>\n",
              "      <th>6</th>\n",
              "      <td>Ashleigh Gardner</td>\n",
              "      <td>AUS</td>\n",
              "      <td>252</td>\n",
              "    </tr>\n",
              "    <tr>\n",
              "      <th>7</th>\n",
              "      <td>Dane van Niekerk</td>\n",
              "      <td>SA</td>\n",
              "      <td>243</td>\n",
              "    </tr>\n",
              "    <tr>\n",
              "      <th>8</th>\n",
              "      <td>Sophie Devine</td>\n",
              "      <td>NZ</td>\n",
              "      <td>242</td>\n",
              "    </tr>\n",
              "    <tr>\n",
              "      <th>9</th>\n",
              "      <td>Amelia Kerr</td>\n",
              "      <td>NZ</td>\n",
              "      <td>236</td>\n",
              "    </tr>\n",
              "  </tbody>\n",
              "</table>\n",
              "</div>"
            ],
            "text/plain": [
              "             Player Team Rating\n",
              "0    Marizanne Kapp   SA    418\n",
              "1      Ellyse Perry  AUS    418\n",
              "2   Stafanie Taylor   WI    410\n",
              "3    Natalie Sciver  ENG    349\n",
              "4     Deepti Sharma  IND    343\n",
              "5     Jess Jonassen  AUS    307\n",
              "6  Ashleigh Gardner  AUS    252\n",
              "7  Dane van Niekerk   SA    243\n",
              "8     Sophie Devine   NZ    242\n",
              "9       Amelia Kerr   NZ    236"
            ]
          },
          "metadata": {
            "tags": []
          },
          "execution_count": 16
        }
      ]
    },
    {
      "cell_type": "code",
      "metadata": {
        "id": "z60WMrAToSWq"
      },
      "source": [
        "e"
      ],
      "execution_count": null,
      "outputs": []
    }
  ]
}