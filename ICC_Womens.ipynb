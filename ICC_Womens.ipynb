{
  "nbformat": 4,
  "nbformat_minor": 0,
  "metadata": {
    "colab": {
      "name": "ICC_Womens.ipynb",
      "provenance": [],
      "authorship_tag": "ABX9TyMO1cfBwBSEMNrGQuh1Brtm",
      "include_colab_link": true
    },
    "kernelspec": {
      "name": "python3",
      "display_name": "Python 3"
    },
    "language_info": {
      "name": "python"
    }
  },
  "cells": [
    {
      "cell_type": "markdown",
      "metadata": {
        "id": "view-in-github",
        "colab_type": "text"
      },
      "source": [
        "<a href=\"https://colab.research.google.com/github/mehul-sonthalia1987/Flip-Robo/blob/Web-Scraping/ICC_Womens.ipynb\" target=\"_parent\"><img src=\"https://colab.research.google.com/assets/colab-badge.svg\" alt=\"Open In Colab\"/></a>"
      ]
    },
    {
      "cell_type": "code",
      "metadata": {
        "colab": {
          "base_uri": "https://localhost:8080/",
          "height": 359
        },
        "id": "shwIx5jylUh7",
        "outputId": "c3676cf8-dc43-483e-da07-2777fd9aa790"
      },
      "source": [
        "from bs4 import BeautifulSoup\n",
        "import requests\n",
        "import re\n",
        "url = 'https://www.icc-cricket.com/rankings/womens/team-rankings/odi'\n",
        "response = requests.get(url)\n",
        "soup = BeautifulSoup(response.text, 'lxml')\n",
        "Team_Names=[]\n",
        "Team_Matches=[]\n",
        "Team_Points=[]\n",
        "Team_Rating=[]\n",
        "\n",
        "\n",
        "Teams = soup.select('span.u-hide-phablet')\n",
        "for i in Teams[:10]:\n",
        "  Team_Names.append(i.text.replace('\\n', ''))\n",
        "\n",
        "Aus_Matches=soup.select('td.rankings-block__banner--matches')\n",
        "Team_Matches.append(Aus_Matches[0].text.replace('\\n',''))\n",
        "Rest_Matches=soup.select('td.table-body__cell.u-center-text')\n",
        "for i in Rest_Matches[0:17:2]:\n",
        "  Team_Matches.append(i.text.replace('\\n', ''))\n",
        "Team_Matches\n",
        "\n",
        "Aus_Points=soup.select('td.rankings-block__banner--points')\n",
        "Team_Points.append(Aus_Points[0].text.replace('\\n',''))\n",
        "for i in Rest_Matches[1:18:2]:\n",
        "  Team_Points.append(i.text.replace('\\n', ''))\n",
        "Team_Points\n",
        "\n",
        "Aus_Rating=soup.select('td.rankings-block__banner--rating.u-text-right')\n",
        "Team_Rating.append(Aus_Rating[0].text.replace('\\n',''))\n",
        "Team_Rating[0]=Team_Rating[0].replace(' ','')\n",
        "Rating=soup.select('td.table-body__cell.u-text-right.rating')\n",
        "for i in Rating[:9]:\n",
        "  Team_Rating.append(i.text.replace('\\n', ''))\n",
        "Team_Rating\n",
        "\n",
        "import pandas as pd\n",
        "ICC_Womens = pd.DataFrame({})\n",
        "ICC_Womens['Team']=Team_Names\n",
        "ICC_Womens['Matches']=Team_Matches\n",
        "ICC_Womens['Points']=Team_Points\n",
        "ICC_Womens['Rating']=Team_Rating\n",
        "ICC_Womens"
      ],
      "execution_count": 6,
      "outputs": [
        {
          "output_type": "execute_result",
          "data": {
            "text/html": [
              "<div>\n",
              "<style scoped>\n",
              "    .dataframe tbody tr th:only-of-type {\n",
              "        vertical-align: middle;\n",
              "    }\n",
              "\n",
              "    .dataframe tbody tr th {\n",
              "        vertical-align: top;\n",
              "    }\n",
              "\n",
              "    .dataframe thead th {\n",
              "        text-align: right;\n",
              "    }\n",
              "</style>\n",
              "<table border=\"1\" class=\"dataframe\">\n",
              "  <thead>\n",
              "    <tr style=\"text-align: right;\">\n",
              "      <th></th>\n",
              "      <th>Team</th>\n",
              "      <th>Matches</th>\n",
              "      <th>Points</th>\n",
              "      <th>Rating</th>\n",
              "    </tr>\n",
              "  </thead>\n",
              "  <tbody>\n",
              "    <tr>\n",
              "      <th>0</th>\n",
              "      <td>Australia</td>\n",
              "      <td>18</td>\n",
              "      <td>2,955</td>\n",
              "      <td>164</td>\n",
              "    </tr>\n",
              "    <tr>\n",
              "      <th>1</th>\n",
              "      <td>South Africa</td>\n",
              "      <td>24</td>\n",
              "      <td>2,828</td>\n",
              "      <td>118</td>\n",
              "    </tr>\n",
              "    <tr>\n",
              "      <th>2</th>\n",
              "      <td>England</td>\n",
              "      <td>17</td>\n",
              "      <td>1,993</td>\n",
              "      <td>117</td>\n",
              "    </tr>\n",
              "    <tr>\n",
              "      <th>3</th>\n",
              "      <td>India</td>\n",
              "      <td>20</td>\n",
              "      <td>2,226</td>\n",
              "      <td>111</td>\n",
              "    </tr>\n",
              "    <tr>\n",
              "      <th>4</th>\n",
              "      <td>New Zealand</td>\n",
              "      <td>21</td>\n",
              "      <td>1,947</td>\n",
              "      <td>93</td>\n",
              "    </tr>\n",
              "    <tr>\n",
              "      <th>5</th>\n",
              "      <td>West Indies</td>\n",
              "      <td>12</td>\n",
              "      <td>1,025</td>\n",
              "      <td>85</td>\n",
              "    </tr>\n",
              "    <tr>\n",
              "      <th>6</th>\n",
              "      <td>Pakistan</td>\n",
              "      <td>15</td>\n",
              "      <td>1,101</td>\n",
              "      <td>73</td>\n",
              "    </tr>\n",
              "    <tr>\n",
              "      <th>7</th>\n",
              "      <td>Bangladesh</td>\n",
              "      <td>5</td>\n",
              "      <td>306</td>\n",
              "      <td>61</td>\n",
              "    </tr>\n",
              "    <tr>\n",
              "      <th>8</th>\n",
              "      <td>Sri Lanka</td>\n",
              "      <td>11</td>\n",
              "      <td>519</td>\n",
              "      <td>47</td>\n",
              "    </tr>\n",
              "    <tr>\n",
              "      <th>9</th>\n",
              "      <td>Ireland</td>\n",
              "      <td>2</td>\n",
              "      <td>25</td>\n",
              "      <td>13</td>\n",
              "    </tr>\n",
              "  </tbody>\n",
              "</table>\n",
              "</div>"
            ],
            "text/plain": [
              "           Team Matches Points Rating\n",
              "0     Australia      18  2,955    164\n",
              "1  South Africa      24  2,828    118\n",
              "2       England      17  1,993    117\n",
              "3         India      20  2,226    111\n",
              "4   New Zealand      21  1,947     93\n",
              "5   West Indies      12  1,025     85\n",
              "6      Pakistan      15  1,101     73\n",
              "7    Bangladesh       5    306     61\n",
              "8     Sri Lanka      11    519     47\n",
              "9       Ireland       2     25     13"
            ]
          },
          "metadata": {
            "tags": []
          },
          "execution_count": 6
        }
      ]
    },
    {
      "cell_type": "code",
      "metadata": {
        "id": "UXFqniSFlvBd"
      },
      "source": [
        ""
      ],
      "execution_count": null,
      "outputs": []
    }
  ]
}