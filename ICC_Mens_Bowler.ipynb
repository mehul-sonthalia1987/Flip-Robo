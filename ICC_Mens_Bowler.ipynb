{
  "nbformat": 4,
  "nbformat_minor": 0,
  "metadata": {
    "colab": {
      "name": "Untitled4.ipynb",
      "provenance": [],
      "authorship_tag": "ABX9TyNAId2SwbbAKdVMUQ4AQOEV",
      "include_colab_link": true
    },
    "kernelspec": {
      "name": "python3",
      "display_name": "Python 3"
    },
    "language_info": {
      "name": "python"
    }
  },
  "cells": [
    {
      "cell_type": "markdown",
      "metadata": {
        "id": "view-in-github",
        "colab_type": "text"
      },
      "source": [
        "<a href=\"https://colab.research.google.com/github/mehul-sonthalia1987/Flip-Robo/blob/Web-Scraping/ICC_Mens_Bowler.ipynb\" target=\"_parent\"><img src=\"https://colab.research.google.com/assets/colab-badge.svg\" alt=\"Open In Colab\"/></a>"
      ]
    },
    {
      "cell_type": "code",
      "metadata": {
        "colab": {
          "base_uri": "https://localhost:8080/",
          "height": 359
        },
        "id": "_mTcQ-VFiTzd",
        "outputId": "adb5f414-89c2-4795-fe6d-3af5f3b92b29"
      },
      "source": [
        "from bs4 import BeautifulSoup\n",
        "import requests\n",
        "import re\n",
        "url = 'https://www.icc-cricket.com/rankings/mens/player-rankings/odi'\n",
        "response = requests.get(url)\n",
        "soup = BeautifulSoup(response.text, 'lxml')\n",
        "Bowler_Names=[]\n",
        "Bowler_Team=[]\n",
        "Bowler_Rating=[]\n",
        "Bowler = soup.select('div.rankings-block__banner--name')\n",
        "Bowler_Names.append(Bowler[1].text)\n",
        "rest_Bowler=soup.select('td.table-body__cell.name')\n",
        "for i in rest_Bowler[9:18]:\n",
        "  Bowler_Names.append(i.text.replace('\\n', ''))\n",
        "Country=soup.select('div.rankings-block__banner--nationality')\n",
        "temp=[]\n",
        "temp.append(Country[1].text.replace('\\n',''))\n",
        "temp[0]=temp[0].replace(' ','')\n",
        "temp_str=\"\"\n",
        "temp_alphabet=\"\"\n",
        "temp_number=\"\"\n",
        "temp_str=str(temp)\n",
        "temp_str\n",
        "temp_alphabet=temp_str[slice(2,4)]\n",
        "Bowler_Team.append(temp_alphabet)\n",
        "temp_number=temp_str[slice(4,7)]\n",
        "Bowler_Rating.append(temp_number)\n",
        "\n",
        "Rest_Country=soup.select('td.table-body__cell.nationality-logo')\n",
        "for i in Rest_Country[9:18]:\n",
        "  Bowler_Team.append(i.text.replace('\\n', ''))\n",
        "\n",
        "Rest_Rating=soup.select('td.table-body__cell.u-text-right.rating')\n",
        "for i in Rest_Rating[9:18]:\n",
        "  Bowler_Rating.append(i.text.replace('\\n', ''))\n",
        "Bowler_Rating\n",
        "\n",
        "import pandas as pd\n",
        "ICC_Mens_Bowler = pd.DataFrame({})\n",
        "ICC_Mens_Bowler['Player']=Bowler_Names\n",
        "ICC_Mens_Bowler['Team']=Bowler_Team\n",
        "ICC_Mens_Bowler['Rating']=Bowler_Rating\n",
        "ICC_Mens_Bowler"
      ],
      "execution_count": 11,
      "outputs": [
        {
          "output_type": "execute_result",
          "data": {
            "text/html": [
              "<div>\n",
              "<style scoped>\n",
              "    .dataframe tbody tr th:only-of-type {\n",
              "        vertical-align: middle;\n",
              "    }\n",
              "\n",
              "    .dataframe tbody tr th {\n",
              "        vertical-align: top;\n",
              "    }\n",
              "\n",
              "    .dataframe thead th {\n",
              "        text-align: right;\n",
              "    }\n",
              "</style>\n",
              "<table border=\"1\" class=\"dataframe\">\n",
              "  <thead>\n",
              "    <tr style=\"text-align: right;\">\n",
              "      <th></th>\n",
              "      <th>Player</th>\n",
              "      <th>Team</th>\n",
              "      <th>Rating</th>\n",
              "    </tr>\n",
              "  </thead>\n",
              "  <tbody>\n",
              "    <tr>\n",
              "      <th>0</th>\n",
              "      <td>Trent Boult</td>\n",
              "      <td>NZ</td>\n",
              "      <td>737</td>\n",
              "    </tr>\n",
              "    <tr>\n",
              "      <th>1</th>\n",
              "      <td>Mehedi Hasan</td>\n",
              "      <td>BAN</td>\n",
              "      <td>713</td>\n",
              "    </tr>\n",
              "    <tr>\n",
              "      <th>2</th>\n",
              "      <td>Mujeeb Ur Rahman</td>\n",
              "      <td>AFG</td>\n",
              "      <td>708</td>\n",
              "    </tr>\n",
              "    <tr>\n",
              "      <th>3</th>\n",
              "      <td>Matt Henry</td>\n",
              "      <td>NZ</td>\n",
              "      <td>691</td>\n",
              "    </tr>\n",
              "    <tr>\n",
              "      <th>4</th>\n",
              "      <td>Jasprit Bumrah</td>\n",
              "      <td>IND</td>\n",
              "      <td>690</td>\n",
              "    </tr>\n",
              "    <tr>\n",
              "      <th>5</th>\n",
              "      <td>Kagiso Rabada</td>\n",
              "      <td>SA</td>\n",
              "      <td>666</td>\n",
              "    </tr>\n",
              "    <tr>\n",
              "      <th>6</th>\n",
              "      <td>Chris Woakes</td>\n",
              "      <td>ENG</td>\n",
              "      <td>665</td>\n",
              "    </tr>\n",
              "    <tr>\n",
              "      <th>7</th>\n",
              "      <td>Josh Hazlewood</td>\n",
              "      <td>AUS</td>\n",
              "      <td>660</td>\n",
              "    </tr>\n",
              "    <tr>\n",
              "      <th>8</th>\n",
              "      <td>Pat Cummins</td>\n",
              "      <td>AUS</td>\n",
              "      <td>646</td>\n",
              "    </tr>\n",
              "    <tr>\n",
              "      <th>9</th>\n",
              "      <td>Mustafizur Rahman</td>\n",
              "      <td>BAN</td>\n",
              "      <td>645</td>\n",
              "    </tr>\n",
              "  </tbody>\n",
              "</table>\n",
              "</div>"
            ],
            "text/plain": [
              "              Player Team Rating\n",
              "0        Trent Boult   NZ    737\n",
              "1       Mehedi Hasan  BAN    713\n",
              "2   Mujeeb Ur Rahman  AFG    708\n",
              "3         Matt Henry   NZ    691\n",
              "4     Jasprit Bumrah  IND    690\n",
              "5      Kagiso Rabada   SA    666\n",
              "6       Chris Woakes  ENG    665\n",
              "7     Josh Hazlewood  AUS    660\n",
              "8        Pat Cummins  AUS    646\n",
              "9  Mustafizur Rahman  BAN    645"
            ]
          },
          "metadata": {
            "tags": []
          },
          "execution_count": 11
        }
      ]
    },
    {
      "cell_type": "code",
      "metadata": {
        "id": "Zr6-eGUFjWW-"
      },
      "source": [
        ""
      ],
      "execution_count": null,
      "outputs": []
    }
  ]
}