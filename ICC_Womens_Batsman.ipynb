{
  "nbformat": 4,
  "nbformat_minor": 0,
  "metadata": {
    "colab": {
      "name": "ICC_Womens_Batsman.ipynb",
      "provenance": [],
      "authorship_tag": "ABX9TyPj3Txf8QqfHNFn57IfqVLQ",
      "include_colab_link": true
    },
    "kernelspec": {
      "name": "python3",
      "display_name": "Python 3"
    },
    "language_info": {
      "name": "python"
    }
  },
  "cells": [
    {
      "cell_type": "markdown",
      "metadata": {
        "id": "view-in-github",
        "colab_type": "text"
      },
      "source": [
        "<a href=\"https://colab.research.google.com/github/mehul-sonthalia1987/Flip-Robo/blob/Web-Scraping/ICC_Womens_Batsman.ipynb\" target=\"_parent\"><img src=\"https://colab.research.google.com/assets/colab-badge.svg\" alt=\"Open In Colab\"/></a>"
      ]
    },
    {
      "cell_type": "code",
      "metadata": {
        "colab": {
          "base_uri": "https://localhost:8080/",
          "height": 359
        },
        "id": "z80Agx44nEQ0",
        "outputId": "ea97abcd-e91e-41fa-dd5d-32a14ce1b8c0"
      },
      "source": [
        "from bs4 import BeautifulSoup\n",
        "import requests\n",
        "import re\n",
        "url = 'https://www.icc-cricket.com/rankings/womens/player-rankings/odi'\n",
        "response = requests.get(url)\n",
        "soup = BeautifulSoup(response.text, 'lxml')\n",
        "Batsman_Names=[]\n",
        "Batsman_Team=[]\n",
        "Batsman_Rating=[]\n",
        "Batsman = soup.select('div.rankings-block__banner--name')\n",
        "Batsman_Names.append(Batsman[0].text)\n",
        "Batsman_Names\n",
        "rest_Batsman=soup.select('td.table-body__cell.name')\n",
        "for i in rest_Batsman[:9]:\n",
        "  Batsman_Names.append(i.text.replace('\\n', ''))\n",
        "\n",
        "Country=soup.select('div.rankings-block__banner--nationality')\n",
        "temp=[]\n",
        "temp.append(Country[0].text.replace('\\n',''))\n",
        "temp[0]=temp[0].replace(' ','')\n",
        "temp_str=\"\"\n",
        "temp_alphabet=\"\"\n",
        "temp_number=\"\"\n",
        "temp_str=str(temp)\n",
        "temp_alphabet=temp_str[slice(2,5)]\n",
        "Batsman_Team.append(temp_alphabet)\n",
        "temp_number=temp_str[slice(5,8)]\n",
        "Batsman_Rating.append(temp_number)\n",
        "\n",
        "Rest_Country=soup.select('td.table-body__cell.nationality-logo')\n",
        "for i in Rest_Country[:9]:\n",
        "  Batsman_Team.append(i.text.replace('\\n', ''))\n",
        "\n",
        "\n",
        "Rest_Rating=soup.select('td.table-body__cell.u-text-right.rating')\n",
        "for i in Rest_Rating[:9]:\n",
        "  Batsman_Rating.append(i.text.replace('\\n', ''))\n",
        "\n",
        "import pandas as pd\n",
        "ICC_Womens_Batsman = pd.DataFrame({})\n",
        "ICC_Womens_Batsman['Player']=Batsman_Names\n",
        "ICC_Womens_Batsman['Team']=Batsman_Team\n",
        "ICC_Womens_Batsman['Rating']=Batsman_Rating\n",
        "ICC_Womens_Batsman\n"
      ],
      "execution_count": 2,
      "outputs": [
        {
          "output_type": "execute_result",
          "data": {
            "text/html": [
              "<div>\n",
              "<style scoped>\n",
              "    .dataframe tbody tr th:only-of-type {\n",
              "        vertical-align: middle;\n",
              "    }\n",
              "\n",
              "    .dataframe tbody tr th {\n",
              "        vertical-align: top;\n",
              "    }\n",
              "\n",
              "    .dataframe thead th {\n",
              "        text-align: right;\n",
              "    }\n",
              "</style>\n",
              "<table border=\"1\" class=\"dataframe\">\n",
              "  <thead>\n",
              "    <tr style=\"text-align: right;\">\n",
              "      <th></th>\n",
              "      <th>Player</th>\n",
              "      <th>Team</th>\n",
              "      <th>Rating</th>\n",
              "    </tr>\n",
              "  </thead>\n",
              "  <tbody>\n",
              "    <tr>\n",
              "      <th>0</th>\n",
              "      <td>Tammy Beaumont</td>\n",
              "      <td>ENG</td>\n",
              "      <td>765</td>\n",
              "    </tr>\n",
              "    <tr>\n",
              "      <th>1</th>\n",
              "      <td>Lizelle Lee</td>\n",
              "      <td>SA</td>\n",
              "      <td>758</td>\n",
              "    </tr>\n",
              "    <tr>\n",
              "      <th>2</th>\n",
              "      <td>Alyssa Healy</td>\n",
              "      <td>AUS</td>\n",
              "      <td>756</td>\n",
              "    </tr>\n",
              "    <tr>\n",
              "      <th>3</th>\n",
              "      <td>Stafanie Taylor</td>\n",
              "      <td>WI</td>\n",
              "      <td>746</td>\n",
              "    </tr>\n",
              "    <tr>\n",
              "      <th>4</th>\n",
              "      <td>Meg Lanning</td>\n",
              "      <td>AUS</td>\n",
              "      <td>723</td>\n",
              "    </tr>\n",
              "    <tr>\n",
              "      <th>5</th>\n",
              "      <td>Amy Satterthwaite</td>\n",
              "      <td>NZ</td>\n",
              "      <td>715</td>\n",
              "    </tr>\n",
              "    <tr>\n",
              "      <th>6</th>\n",
              "      <td>Smriti Mandhana</td>\n",
              "      <td>IND</td>\n",
              "      <td>710</td>\n",
              "    </tr>\n",
              "    <tr>\n",
              "      <th>7</th>\n",
              "      <td>Mithali Raj</td>\n",
              "      <td>IND</td>\n",
              "      <td>709</td>\n",
              "    </tr>\n",
              "    <tr>\n",
              "      <th>8</th>\n",
              "      <td>Natalie Sciver</td>\n",
              "      <td>ENG</td>\n",
              "      <td>685</td>\n",
              "    </tr>\n",
              "    <tr>\n",
              "      <th>9</th>\n",
              "      <td>Laura Wolvaardt</td>\n",
              "      <td>SA</td>\n",
              "      <td>683</td>\n",
              "    </tr>\n",
              "  </tbody>\n",
              "</table>\n",
              "</div>"
            ],
            "text/plain": [
              "              Player Team Rating\n",
              "0     Tammy Beaumont  ENG    765\n",
              "1        Lizelle Lee   SA    758\n",
              "2       Alyssa Healy  AUS    756\n",
              "3    Stafanie Taylor   WI    746\n",
              "4        Meg Lanning  AUS    723\n",
              "5  Amy Satterthwaite   NZ    715\n",
              "6    Smriti Mandhana  IND    710\n",
              "7        Mithali Raj  IND    709\n",
              "8     Natalie Sciver  ENG    685\n",
              "9    Laura Wolvaardt   SA    683"
            ]
          },
          "metadata": {
            "tags": []
          },
          "execution_count": 2
        }
      ]
    },
    {
      "cell_type": "code",
      "metadata": {
        "id": "RjTXJ-KFnTDn"
      },
      "source": [
        ""
      ],
      "execution_count": 1,
      "outputs": []
    }
  ]
}